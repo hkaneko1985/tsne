{
 "cells": [
  {
   "cell_type": "markdown",
   "metadata": {},
   "source": [
    "# Demonstration of t-SNE (t-distributed Stochastic Neighbor Embedding) using scikit-learn\n",
    "\n",
    "Hiromasa Kaneko"
   ]
  },
  {
   "cell_type": "code",
   "execution_count": null,
   "metadata": {
    "collapsed": true
   },
   "outputs": [],
   "source": [
    "import matplotlib.pyplot as plt\n",
    "from sklearn.datasets.samples_generator import make_swiss_roll, make_s_curve\n",
    "from sklearn.manifold import TSNE\n",
    "import mpl_toolkits.mplot3d"
   ]
  },
  {
   "cell_type": "code",
   "execution_count": null,
   "metadata": {
    "collapsed": true
   },
   "outputs": [],
   "source": [
    "data_flag = 1  # 1: s-curve dataset, 2: swiss-roll dataset\n",
    "perplexity = 85  # 85 in data_flag = 1, 50 in data_flag = 2"
   ]
  },
  {
   "cell_type": "code",
   "execution_count": null,
   "metadata": {
    "collapsed": true
   },
   "outputs": [],
   "source": [
    "number_of_samples = 1000\n",
    "noise = 0\n",
    "random_state_number = 100"
   ]
  },
  {
   "cell_type": "code",
   "execution_count": null,
   "metadata": {
    "collapsed": true
   },
   "outputs": [],
   "source": [
    "if data_flag == 1:\n",
    "    original_X, color = make_s_curve(number_of_samples, noise, random_state=0)\n",
    "elif data_flag == 2:\n",
    "    original_X, color = make_swiss_roll(number_of_samples, noise, random_state=0)"
   ]
  },
  {
   "cell_type": "code",
   "execution_count": null,
   "metadata": {
    "collapsed": false
   },
   "outputs": [],
   "source": [
    "# plot\n",
    "plt.rcParams[\"font.size\"] = 18\n",
    "fig = plt.figure(figsize=(7, 6))\n",
    "ax = fig.add_subplot(111, projection='3d')\n",
    "ax.set_xlabel(\"x1\")\n",
    "ax.set_ylabel(\"x2\")\n",
    "ax.set_zlabel(\"x3\")\n",
    "p = ax.scatter(original_X[:, 0], original_X[:, 1], original_X[:, 2], c=color)\n",
    "#fig.colorbar(p)\n",
    "plt.tight_layout()\n",
    "plt.show()"
   ]
  },
  {
   "cell_type": "code",
   "execution_count": null,
   "metadata": {
    "collapsed": true
   },
   "outputs": [],
   "source": [
    "autoscaled_X = (original_X - original_X.mean(axis=0)) / original_X.std(axis=0, ddof=1)"
   ]
  },
  {
   "cell_type": "code",
   "execution_count": null,
   "metadata": {
    "collapsed": true
   },
   "outputs": [],
   "source": [
    "Z = TSNE(perplexity=perplexity, n_components=2, init='pca',\n",
    "         random_state=random_state_number).fit_transform(autoscaled_X)"
   ]
  },
  {
   "cell_type": "code",
   "execution_count": null,
   "metadata": {
    "collapsed": false
   },
   "outputs": [],
   "source": [
    "# plot after tSNE\n",
    "plt.figure(figsize=(6, 6))\n",
    "plt.scatter(Z[:, 0], Z[:, 1], c=color)\n",
    "plt.xlabel(\"z1\")\n",
    "plt.ylabel(\"z2\")\n",
    "plt.tight_layout()\n",
    "plt.show()"
   ]
  }
 ],
 "metadata": {
  "kernelspec": {
   "display_name": "Python 3",
   "language": "python",
   "name": "python3"
  },
  "language_info": {
   "codemirror_mode": {
    "name": "ipython",
    "version": 3
   },
   "file_extension": ".py",
   "mimetype": "text/x-python",
   "name": "python",
   "nbconvert_exporter": "python",
   "pygments_lexer": "ipython3",
   "version": "3.6.0"
  }
 },
 "nbformat": 4,
 "nbformat_minor": 2
}
